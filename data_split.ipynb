{
 "cells": [
  {
   "cell_type": "code",
   "execution_count": 1,
   "metadata": {},
   "outputs": [],
   "source": [
    "import numpy as np\n",
    "import pandas as pd\n",
    "import string\n",
    "from datasets import load_dataset\n",
    "import nltk"
   ]
  },
  {
   "cell_type": "code",
   "execution_count": 53,
   "metadata": {},
   "outputs": [],
   "source": [
    "def preprocess_dataset(dataset):\n",
    "    # Convert from pyarrow to pandas df\n",
    "    df = dataset.to_pandas()\n",
    "    \n",
    "    # Map letter answers to options list indices\n",
    "    df['answer'] = df['answer'].map({'A':0, 'B':1, 'C':2, 'D':3})\n",
    "    options_series = df['options']\n",
    "\n",
    "    def is_valid_options(options_list):\n",
    "        # Strip option, remove punctuation, return True if not all options are just numbers.\n",
    "        is_valid = [not sent.strip().translate(str.maketrans('', '', string.punctuation)).isnumeric() for sent in options_list]\n",
    "        return any(is_valid)\n",
    "\n",
    "    # Map is_valid_options to every question\n",
    "    is_valid_series = options_series.map(is_valid_options)\n",
    "    num_dropped = is_valid_series.value_counts()[False]\n",
    "    print(f'Dropped {num_dropped} rows with only numeric answers')\n",
    "    return df[is_valid_series]\n"
   ]
  },
  {
   "cell_type": "code",
   "execution_count": 76,
   "metadata": {},
   "outputs": [],
   "source": [
    "pd.set_option('display.max_colwidth', None)\n",
    "\n",
    "def filt_df(df):\n",
    "    \n",
    "    ## Exclude phrase completion questions\n",
    "    filt_df = df[ ~df['question'].str.contains('_')]\n",
    "\n",
    "    ## Exclude \"According to the passage\" questions\n",
    "    filt_df = filt_df[ filt_df['question'].str.contains('According to the passage')]\n",
    "\n",
    "    ## Exclude questions shorter than 5 words\n",
    "    filt_df = filt_df[ filt_df.question.str.replace(',','').str.split().str.len() > 5 ]\n",
    "    \n",
    "    ## Exclude contexts w/ less than n questions\n",
    "    vc = filt_df['example_id'].value_counts().to_frame()\n",
    "    vc.columns = ['Count']\n",
    "    vc[vc.Count > 1]\n",
    "    filt_df = filt_df[filt_df['example_id'].isin(vc.index)]\n",
    "\n",
    "    return filt_df"
   ]
  },
  {
   "cell_type": "code",
   "execution_count": null,
   "metadata": {},
   "outputs": [],
   "source": [
    "#pd.set_option('display.max_colwidth', None)\n",
    "\n",
    "race = load_dataset('race', 'all')\n",
    "race_train = race['train'].to_pandas()\n",
    "race_train"
   ]
  },
  {
   "cell_type": "code",
   "execution_count": 77,
   "metadata": {},
   "outputs": [
    {
     "name": "stdout",
     "output_type": "stream",
     "text": [
      "Dropped 67 rows with only numeric answers\n",
      "Dropped 1304 rows with only numeric answers\n"
     ]
    }
   ],
   "source": [
    "valid_df = filt_df(preprocess_dataset(race['validation']))\n",
    "train_df = filt_df(preprocess_dataset(race['train']))"
   ]
  }
 ],
 "metadata": {
  "interpreter": {
   "hash": "aee8b7b246df8f9039afb4144a1f6fd8d2ca17a180786b69acc140d282b71a49"
  },
  "kernelspec": {
   "display_name": "Python 3",
   "language": "python",
   "name": "python3"
  },
  "language_info": {
   "codemirror_mode": {
    "name": "ipython",
    "version": 3
   },
   "file_extension": ".py",
   "mimetype": "text/x-python",
   "name": "python",
   "nbconvert_exporter": "python",
   "pygments_lexer": "ipython3",
   "version": "3.8.3"
  }
 },
 "nbformat": 4,
 "nbformat_minor": 2
}
