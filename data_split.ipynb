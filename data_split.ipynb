{
 "cells": [
  {
   "cell_type": "code",
   "execution_count": 1,
   "metadata": {},
   "outputs": [],
   "source": [
    "import numpy as np\n",
    "import pandas as pd\n",
    "import string\n",
    "from datasets import load_dataset\n",
    "import nltk"
   ]
  },
  {
   "cell_type": "code",
   "execution_count": 2,
   "metadata": {},
   "outputs": [],
   "source": [
    "def preprocess_dataset(dataset):\n",
    "    # Convert from pyarrow to pandas df\n",
    "    df = dataset.to_pandas()\n",
    "    \n",
    "    # Map letter answers to options list indices\n",
    "    df['answer'] = df['answer'].map({'A':0, 'B':1, 'C':2, 'D':3})\n",
    "    options_series = df['options']\n",
    "\n",
    "    def is_valid_options(options_list):\n",
    "        # Strip option, remove punctuation, return True if not all options are just numbers.\n",
    "        is_valid = [not sent.strip().translate(str.maketrans('', '', string.punctuation)).isnumeric() for sent in options_list]\n",
    "        return any(is_valid)\n",
    "\n",
    "    # Map is_valid_options to every question\n",
    "    is_valid_series = options_series.map(is_valid_options)\n",
    "    num_dropped = is_valid_series.value_counts()[False]\n",
    "    print(f'Dropped {num_dropped} rows with only numeric answers')\n",
    "    return df[is_valid_series]\n"
   ]
  },
  {
   "cell_type": "code",
   "execution_count": 94,
   "metadata": {},
   "outputs": [],
   "source": [
    "pd.set_option('display.max_colwidth', None)\n",
    "\n",
    "def filt_df(df):\n",
    "    \n",
    "    ## Exclude phrase completion questions\n",
    "    filt_df = df[ ~df['question'].str.contains('_')]\n",
    "    print(filt_df.shape)\n",
    "\n",
    "    ## Exclude \"According to the passage\" questions\n",
    "    filt_df = filt_df[ ~filt_df['question'].str.contains('According to the passage')]\n",
    "    print(filt_df.shape)\n",
    "\n",
    "    ## Exclude questions shorter than 5 words\n",
    "    filt_df = filt_df[ filt_df.question.str.replace(',','').str.split().str.len() > 5 ]\n",
    "    print(filt_df.shape)\n",
    "    \n",
    "    ## Exclude contexts w/ less than n questions\n",
    "    vc = filt_df['example_id'].value_counts().to_frame()\n",
    "    vc.columns = ['Count']\n",
    "    vc = vc[vc.Count > 0]\n",
    "    filt_df = filt_df[filt_df['example_id'].isin(vc.index)]\n",
    "    print(filt_df.shape)\n",
    "    \n",
    "    ## Exclude questions with answers shorter than 3 words\n",
    "    filt_df['answer_text'] = filt_df.apply(lambda x: x['options'][x['answer']], axis=1)\n",
    "    filt_df['answer_text_len'] = filt_df['answer_text'].str.replace(',','').str.split().str.len()\n",
    "    filt_df = filt_df[ filt_df.answer_text_len >= 3 ]\n",
    "    filt_df = filt_df.drop(['answer_text', 'answer_text_len'], axis=1)\n",
    "    print(filt_df.shape)\n",
    "\n",
    "    return filt_df"
   ]
  },
  {
   "cell_type": "code",
   "execution_count": 95,
   "metadata": {},
   "outputs": [
    {
     "name": "stderr",
     "output_type": "stream",
     "text": [
      "Reusing dataset race (/Users/Hasan/.cache/huggingface/datasets/race/all/0.1.0/5839ff74a429622f5f20cca69c5fcf0e87ac6d5fd2777c42b948000684829f7b)\n"
     ]
    },
    {
     "data": {
      "application/vnd.jupyter.widget-view+json": {
       "model_id": "af8b6fa3298646c78e84c81d7f27a5bd",
       "version_major": 2,
       "version_minor": 0
      },
      "text/plain": [
       "HBox(children=(FloatProgress(value=0.0, max=3.0), HTML(value='')))"
      ]
     },
     "metadata": {},
     "output_type": "display_data"
    },
    {
     "name": "stdout",
     "output_type": "stream",
     "text": [
      "\n"
     ]
    }
   ],
   "source": [
    "#pd.set_option('display.max_colwidth', None)\n",
    "\n",
    "race = load_dataset('race', 'all')\n",
    "race_train = race['train'].to_pandas()\n",
    "#race_train"
   ]
  },
  {
   "cell_type": "code",
   "execution_count": 96,
   "metadata": {},
   "outputs": [
    {
     "name": "stdout",
     "output_type": "stream",
     "text": [
      "Dropped 1304 rows with only numeric answers\n",
      "(41197, 5)\n",
      "(40312, 5)\n",
      "(38187, 5)\n",
      "(38187, 5)\n",
      "(31941, 5)\n"
     ]
    },
    {
     "data": {
      "text/html": [
       "<div>\n",
       "<style scoped>\n",
       "    .dataframe tbody tr th:only-of-type {\n",
       "        vertical-align: middle;\n",
       "    }\n",
       "\n",
       "    .dataframe tbody tr th {\n",
       "        vertical-align: top;\n",
       "    }\n",
       "\n",
       "    .dataframe thead th {\n",
       "        text-align: right;\n",
       "    }\n",
       "</style>\n",
       "<table border=\"1\" class=\"dataframe\">\n",
       "  <thead>\n",
       "    <tr style=\"text-align: right;\">\n",
       "      <th></th>\n",
       "      <th>example_id</th>\n",
       "      <th>article</th>\n",
       "      <th>answer</th>\n",
       "      <th>question</th>\n",
       "      <th>options</th>\n",
       "    </tr>\n",
       "  </thead>\n",
       "  <tbody>\n",
       "    <tr>\n",
       "      <th>3</th>\n",
       "      <td>high19088.txt</td>\n",
       "      <td>Last week I talked with some of my students about what they wanted to do after they graduated, and what kind of job prospects  they thought they had.\\nGiven that I teach students who are training to be doctors, I was surprised do find that most thought that they would not be able to get the jobs they wanted without \"outside help\". \"What kind of help is that?\" I asked, expecting them to tell me that they would need a   or family friend to help them out.\\n\"Surgery ,\" one replied.\\nI was pretty alarmed by that response. It seems that the graduates of today are increasingly willing to go under the knife to get ahead of others when it comes to getting a job .\\nOne girl told me that she was considering surgery to increase her height. \"They break your legs, put in special extending screws, and slowly expand the gap between the two ends of the bone as it re-grows, you can get at least 5 cm taller!\"\\nAt that point, I was shocked. I am short, I can't deny that, but I don't think I would put myself through months of agony just to be a few centimetres taller. I don't even bother to wear shoes with thick soles, as I'm not trying to hide the fact that I am just not tall!\\nIt seems to me that there is a trend towards wanting \"perfection\" , and that is an ideal that just does not exist in reality.\\nNo one is born perfect, yet magazines, TV shows and movies present images of thin, tall, beautiful people as being the norm. Advertisements for slimming aids, beauty treatments and cosmetic surgery clinics fill the pages of newspapers, further creating an idea that \"perfection\" is a requirement, and that it must be purchased, no matter what the cost. In my opinion, skills, rather than appearance, should determine how successful a person is in his/her chosen career.</td>\n",
       "      <td>1</td>\n",
       "      <td>Which' s the best title for the passage?.</td>\n",
       "      <td>[Young Graduates Have Higher Expectations, Young Graduates Look to Surgery for Better Jobs, Young Graduates' Opinion About Cosmetic Surgery, Young Graduates Face a Different Situation in Job-hunting]</td>\n",
       "    </tr>\n",
       "    <tr>\n",
       "      <th>4</th>\n",
       "      <td>high15596.txt</td>\n",
       "      <td>YUZHOU, HENAN -An accident in a central China coal mine killed 21 miners Saturday and left another 16 trapped underground , the government said.\\nThe death\\nrose to 26 Sunday morning as rescuers were battling to reach the 11 miners who were still trapped underground, rescue headquarters said.\\nRescuers were battling to reach the 11 miners still trapped underground, but chances for them to survive were very slim, said Du Bo, deputy chief of the rescue headquarters.\\n\"Based upon past experience, the remaining 11 miners could be buried in coal dust, so the survival chances are frail,\" Du said.\\nMore than 2,500 tons of coal dust smothered  the pit after the gas leak , which hampered  the rescue, said Du.\\nThe gas outburst happened at 6:03 a.m. Saturday when 276 miners were working underground in the mine in Yuzhou City. A total of 239 workers escaped but 21 were found dead and 16 trapped.\\nAn initial  investigation showed that 173,500 cubic meters of gas leaked out in the accident. Liu Wenbin, a deputy chief engineer of the company that owns the mine, was in the pit  when the accident happened. He organized the escape.\\n\"At around 6 a.m., I felt there was something wrong with the airflow in the shaft, and one of the team captains told me he also felt it and had already reported the problem,\" said Liu\\nThe mine is owned by Pingyu Coal &amp; Electric Co. Ltd., a company jointly established by four investors, including Zhong Ping Energy Chemical Group and China Power Investment Corp.</td>\n",
       "      <td>1</td>\n",
       "      <td>What could be the best title for this passage?</td>\n",
       "      <td>[Death Toll Rises in an Accident in China, A Coal Mine Accident in Central China, An Accident in Central China, Coal Mine Accidents in China]</td>\n",
       "    </tr>\n",
       "    <tr>\n",
       "      <th>6</th>\n",
       "      <td>high15596.txt</td>\n",
       "      <td>YUZHOU, HENAN -An accident in a central China coal mine killed 21 miners Saturday and left another 16 trapped underground , the government said.\\nThe death\\nrose to 26 Sunday morning as rescuers were battling to reach the 11 miners who were still trapped underground, rescue headquarters said.\\nRescuers were battling to reach the 11 miners still trapped underground, but chances for them to survive were very slim, said Du Bo, deputy chief of the rescue headquarters.\\n\"Based upon past experience, the remaining 11 miners could be buried in coal dust, so the survival chances are frail,\" Du said.\\nMore than 2,500 tons of coal dust smothered  the pit after the gas leak , which hampered  the rescue, said Du.\\nThe gas outburst happened at 6:03 a.m. Saturday when 276 miners were working underground in the mine in Yuzhou City. A total of 239 workers escaped but 21 were found dead and 16 trapped.\\nAn initial  investigation showed that 173,500 cubic meters of gas leaked out in the accident. Liu Wenbin, a deputy chief engineer of the company that owns the mine, was in the pit  when the accident happened. He organized the escape.\\n\"At around 6 a.m., I felt there was something wrong with the airflow in the shaft, and one of the team captains told me he also felt it and had already reported the problem,\" said Liu\\nThe mine is owned by Pingyu Coal &amp; Electric Co. Ltd., a company jointly established by four investors, including Zhong Ping Energy Chemical Group and China Power Investment Corp.</td>\n",
       "      <td>2</td>\n",
       "      <td>According to the writer, which of the following is not true?</td>\n",
       "      <td>[The mine was owned by more than one company, There was at least one more similar accident happening in Central China before, Before the accident happened there was no sign of something wrong, When the accident happened one of the mine owners was in the pit]</td>\n",
       "    </tr>\n",
       "    <tr>\n",
       "      <th>7</th>\n",
       "      <td>high4558.txt</td>\n",
       "      <td>Understanding the process of making career choices and managing your career is a basic life skill that everyone should understand.\\nYour career decisions have such a profound effect on all aspects of your life. It's important to have the knowledge and resources needed to make smart, informed decisions. Whether you are looking for a new job, aiming to take the next step at your current job or planning your retirement options, you are making career decisions. Using good resources and the guidance of a career counselor can help you to make those decisions well.\\nMany people mistakenly believe that choosing a career is a one-time event that happens some time in early adulthood. However, career management is actually a life-long process, and we continue to make consequential   career choices over the years. When people want to take action in their career, career management and job search are about so much more than writing a good resume. If you learn about and act on the following areas of career management, you'll be rewarded throughout your career.\\nYour interests, abilities, values, personal needs and realities should all be taken into account in any career decision making process. You spend countless hours at work, and it impacts your life in so many ways; it makes sense that you should be fully informed before making such profound decisions.\\nDo you know how many different career choices are available to you? Both The Dictionary of Occupational Titles (American) and The National Occupational Classification (Canadian) list well over 20,000 different job titles. So unless you've actively explored a variety of career options, there's a very good chance that there are great possibilities available to you, and you don't even realize they exist.\\nMatch your understanding of yourself with your understanding of possible career options. Once you have developed a good understanding of yourself, you will be able to combine that self-knowledge with your career and labor market research to determine potential careers that are a great fit for you.\\nWhen you've made a well informed decision, then you're ready to make it happen. Making use of good career guidance and resources will help you to acquire the education, skills, and experience needed to get the job and learn and implement   effective job search strategies.\\nTime spent understanding your needs, researching your career options and developing outstanding job search skills, guided by great career resources, is a powerful investment in your future.</td>\n",
       "      <td>1</td>\n",
       "      <td>What's the main idea of the passage?</td>\n",
       "      <td>[In the process of making career decisions, people should consider interests, abilities, values, personal needs and realities., All the people should have a good knowledge of how to make career choices and manage their career., Career decisions have a great impact on people's life., There are various possibilities available to you of making career decisions.]</td>\n",
       "    </tr>\n",
       "    <tr>\n",
       "      <th>10</th>\n",
       "      <td>high4558.txt</td>\n",
       "      <td>Understanding the process of making career choices and managing your career is a basic life skill that everyone should understand.\\nYour career decisions have such a profound effect on all aspects of your life. It's important to have the knowledge and resources needed to make smart, informed decisions. Whether you are looking for a new job, aiming to take the next step at your current job or planning your retirement options, you are making career decisions. Using good resources and the guidance of a career counselor can help you to make those decisions well.\\nMany people mistakenly believe that choosing a career is a one-time event that happens some time in early adulthood. However, career management is actually a life-long process, and we continue to make consequential   career choices over the years. When people want to take action in their career, career management and job search are about so much more than writing a good resume. If you learn about and act on the following areas of career management, you'll be rewarded throughout your career.\\nYour interests, abilities, values, personal needs and realities should all be taken into account in any career decision making process. You spend countless hours at work, and it impacts your life in so many ways; it makes sense that you should be fully informed before making such profound decisions.\\nDo you know how many different career choices are available to you? Both The Dictionary of Occupational Titles (American) and The National Occupational Classification (Canadian) list well over 20,000 different job titles. So unless you've actively explored a variety of career options, there's a very good chance that there are great possibilities available to you, and you don't even realize they exist.\\nMatch your understanding of yourself with your understanding of possible career options. Once you have developed a good understanding of yourself, you will be able to combine that self-knowledge with your career and labor market research to determine potential careers that are a great fit for you.\\nWhen you've made a well informed decision, then you're ready to make it happen. Making use of good career guidance and resources will help you to acquire the education, skills, and experience needed to get the job and learn and implement   effective job search strategies.\\nTime spent understanding your needs, researching your career options and developing outstanding job search skills, guided by great career resources, is a powerful investment in your future.</td>\n",
       "      <td>2</td>\n",
       "      <td>Which of the following statements is NOT TRUE according to the passage?</td>\n",
       "      <td>[Your interests in the occupation you choose are vital., Good career guidance and resources can help you gain the skills and experience., You are to make significant decisions without good resources and the guidance of a career adviser., Planning your retirement options is related to career management.]</td>\n",
       "    </tr>\n",
       "    <tr>\n",
       "      <th>...</th>\n",
       "      <td>...</td>\n",
       "      <td>...</td>\n",
       "      <td>...</td>\n",
       "      <td>...</td>\n",
       "      <td>...</td>\n",
       "    </tr>\n",
       "    <tr>\n",
       "      <th>87843</th>\n",
       "      <td>middle7687.txt</td>\n",
       "      <td>When travelling.you are sure to try some exciting new kinds of food.The Wild Food Festival,in the town of Hokitika,the west of Coast of New Zealand,gives you the chance to try some strange food.It is a celebration of the areas special lifestyle and food.And it celebrates food that most people might not want to eat.It is held in March every year.\\nAt the festival you will find huhu grubs and beetles on your plate.The festival also celebrates Maori food. the food of the traditional native people of New Nealand And visitors will eat the wild food with plenty of famous West Coast beer.What's more,there are three stages at the festival,where there is live music and entertainment an day long.\\nIf you have the chance to travel to Hokitita during the Wild Food Festival,you should book a hotel before it begins.or you can choose to stay at local schools.A number of local schools become camping grounds over the weekend of the festival.You can also stay in Greymouth,because there are buses from Greymouth to the festival.</td>\n",
       "      <td>0</td>\n",
       "      <td>What will you find on your plate at the festival?</td>\n",
       "      <td>[Huhu grubs and beetles., West Coast beer., Fish and chicken, Pork and eggs.]</td>\n",
       "    </tr>\n",
       "    <tr>\n",
       "      <th>87844</th>\n",
       "      <td>middle7687.txt</td>\n",
       "      <td>When travelling.you are sure to try some exciting new kinds of food.The Wild Food Festival,in the town of Hokitika,the west of Coast of New Zealand,gives you the chance to try some strange food.It is a celebration of the areas special lifestyle and food.And it celebrates food that most people might not want to eat.It is held in March every year.\\nAt the festival you will find huhu grubs and beetles on your plate.The festival also celebrates Maori food. the food of the traditional native people of New Nealand And visitors will eat the wild food with plenty of famous West Coast beer.What's more,there are three stages at the festival,where there is live music and entertainment an day long.\\nIf you have the chance to travel to Hokitita during the Wild Food Festival,you should book a hotel before it begins.or you can choose to stay at local schools.A number of local schools become camping grounds over the weekend of the festival.You can also stay in Greymouth,because there are buses from Greymouth to the festival.</td>\n",
       "      <td>3</td>\n",
       "      <td>Which activity can't you do at the festival?</td>\n",
       "      <td>[You can eat Maori food., You can enjoy live music and entertainment., You can drink West Coast beer., You can make Maori food by yourself.]</td>\n",
       "    </tr>\n",
       "    <tr>\n",
       "      <th>87845</th>\n",
       "      <td>middle7687.txt</td>\n",
       "      <td>When travelling.you are sure to try some exciting new kinds of food.The Wild Food Festival,in the town of Hokitika,the west of Coast of New Zealand,gives you the chance to try some strange food.It is a celebration of the areas special lifestyle and food.And it celebrates food that most people might not want to eat.It is held in March every year.\\nAt the festival you will find huhu grubs and beetles on your plate.The festival also celebrates Maori food. the food of the traditional native people of New Nealand And visitors will eat the wild food with plenty of famous West Coast beer.What's more,there are three stages at the festival,where there is live music and entertainment an day long.\\nIf you have the chance to travel to Hokitita during the Wild Food Festival,you should book a hotel before it begins.or you can choose to stay at local schools.A number of local schools become camping grounds over the weekend of the festival.You can also stay in Greymouth,because there are buses from Greymouth to the festival.</td>\n",
       "      <td>3</td>\n",
       "      <td>Which place can't you stay during the festival?</td>\n",
       "      <td>[A hotel, Local schools, In Greymouth, An exciting place.]</td>\n",
       "    </tr>\n",
       "    <tr>\n",
       "      <th>87850</th>\n",
       "      <td>middle5460.txt</td>\n",
       "      <td>In the days following the first anniversary  of my dad 's death, I felt sad. I still missed him so much. I would walk over to his old house where my daughter now live and still expect to see him sitting out on his front porch . I would see him in my dreams, looking young and strong again.\\nI felt bad too because I regretted not spending more time with him while he was here. I wished I had visited him more, talked with him more, and listened to him more. I wished I had asked the questions that I never did. I wished I had given him more hugs and told him I loved him more often. I wished I had cherished the time I had with him here. I was angry at the destiny  because Dad and Mum had both passed away before I was 50, and I was angry with myself because I hadn't made the most of time I had with them.\\nToday, I found myself walking under a cloudy sky, staring at the leafless trees. As I walked along, one of the last golden maple leaves fell from its tree and sailed in the wind until it landed in front of me. I picked it up and smiled. At the moment of peace I felt a sound in my heart and mind: \"death is momentary , but love is eternal .\" I knew at that moment that my relationships with Mum and Dad were not over. We would see each other again in a place of love, joy and light. We would spend our days in learning, laughter and love.</td>\n",
       "      <td>1</td>\n",
       "      <td>What is the main idea of this passage?</td>\n",
       "      <td>[The writer's parents had both died before he was50., Life is limited but love is forever., The writer regretted that he had no more time to stay with his parents., The writer felt sad because he couldn't stay with his dad any more.]</td>\n",
       "    </tr>\n",
       "    <tr>\n",
       "      <th>87865</th>\n",
       "      <td>middle2313.txt</td>\n",
       "      <td>Last year when Tom graduated from school, he came to Taibei. He didn't like to work on his father's farm and hoped to find a job in a big city. He went from one company to another but no one wanted him. With little money left, he got to the station, sad and tired. All he wanted to do was go back to his small town. It was very late at night and the station was full of people. They were waiting to buy tickets of the last train. He bought the last ticket, and he was very happy.\\nAt that time, a woman with a crying baby walked to him and asked him to sell her the ticket. He gave her the ticket because he thought they needed it more than he did. After the train left, he sat on the bench and didn't know where to go. Suddenly, an old man came and said, \"Young man, I have seen what you did to the woman. I am the owner of a big company. I need a good young man like you. Would you like to work for me?</td>\n",
       "      <td>2</td>\n",
       "      <td>What can we learn from this story?</td>\n",
       "      <td>[Many people find job in a train station., Don't buy the last ticket of the train., If we try our best to help others, others will help us., We should not give our ticket to others in a train station.]</td>\n",
       "    </tr>\n",
       "  </tbody>\n",
       "</table>\n",
       "<p>31941 rows × 5 columns</p>\n",
       "</div>"
      ],
      "text/plain": [
       "           example_id  \\\n",
       "3       high19088.txt   \n",
       "4       high15596.txt   \n",
       "6       high15596.txt   \n",
       "7        high4558.txt   \n",
       "10       high4558.txt   \n",
       "...               ...   \n",
       "87843  middle7687.txt   \n",
       "87844  middle7687.txt   \n",
       "87845  middle7687.txt   \n",
       "87850  middle5460.txt   \n",
       "87865  middle2313.txt   \n",
       "\n",
       "                                                                                                                                                                                                                                                                                                                                                                                                                                                                                                                                                                                                                                                                                                                                                                                                                                                                                                                                                                                                                                                                                                                                                                                                                                                                                                                                                                                                                                                                                                                                                                                                                                                                                                                                                                                                                                                                                                                                                                                                                                                                                                                                                                                                                                                                                                                                                                                                                                                                                                                                                                                                                                      article  \\\n",
       "3                                                                                                                                                                                                                                                                                                                                                                                                                                                                                                                                                                                                                                                                                                                                                                                               Last week I talked with some of my students about what they wanted to do after they graduated, and what kind of job prospects  they thought they had.\\nGiven that I teach students who are training to be doctors, I was surprised do find that most thought that they would not be able to get the jobs they wanted without \"outside help\". \"What kind of help is that?\" I asked, expecting them to tell me that they would need a   or family friend to help them out.\\n\"Surgery ,\" one replied.\\nI was pretty alarmed by that response. It seems that the graduates of today are increasingly willing to go under the knife to get ahead of others when it comes to getting a job .\\nOne girl told me that she was considering surgery to increase her height. \"They break your legs, put in special extending screws, and slowly expand the gap between the two ends of the bone as it re-grows, you can get at least 5 cm taller!\"\\nAt that point, I was shocked. I am short, I can't deny that, but I don't think I would put myself through months of agony just to be a few centimetres taller. I don't even bother to wear shoes with thick soles, as I'm not trying to hide the fact that I am just not tall!\\nIt seems to me that there is a trend towards wanting \"perfection\" , and that is an ideal that just does not exist in reality.\\nNo one is born perfect, yet magazines, TV shows and movies present images of thin, tall, beautiful people as being the norm. Advertisements for slimming aids, beauty treatments and cosmetic surgery clinics fill the pages of newspapers, further creating an idea that \"perfection\" is a requirement, and that it must be purchased, no matter what the cost. In my opinion, skills, rather than appearance, should determine how successful a person is in his/her chosen career.   \n",
       "4                                                                                                                                                                                                                                                                                                                                                                                                                                                                                                                                                                                                                                                                                                                                                                                                                                                                                                                                                                                                                                                                                   YUZHOU, HENAN -An accident in a central China coal mine killed 21 miners Saturday and left another 16 trapped underground , the government said.\\nThe death\\nrose to 26 Sunday morning as rescuers were battling to reach the 11 miners who were still trapped underground, rescue headquarters said.\\nRescuers were battling to reach the 11 miners still trapped underground, but chances for them to survive were very slim, said Du Bo, deputy chief of the rescue headquarters.\\n\"Based upon past experience, the remaining 11 miners could be buried in coal dust, so the survival chances are frail,\" Du said.\\nMore than 2,500 tons of coal dust smothered  the pit after the gas leak , which hampered  the rescue, said Du.\\nThe gas outburst happened at 6:03 a.m. Saturday when 276 miners were working underground in the mine in Yuzhou City. A total of 239 workers escaped but 21 were found dead and 16 trapped.\\nAn initial  investigation showed that 173,500 cubic meters of gas leaked out in the accident. Liu Wenbin, a deputy chief engineer of the company that owns the mine, was in the pit  when the accident happened. He organized the escape.\\n\"At around 6 a.m., I felt there was something wrong with the airflow in the shaft, and one of the team captains told me he also felt it and had already reported the problem,\" said Liu\\nThe mine is owned by Pingyu Coal & Electric Co. Ltd., a company jointly established by four investors, including Zhong Ping Energy Chemical Group and China Power Investment Corp.   \n",
       "6                                                                                                                                                                                                                                                                                                                                                                                                                                                                                                                                                                                                                                                                                                                                                                                                                                                                                                                                                                                                                                                                                   YUZHOU, HENAN -An accident in a central China coal mine killed 21 miners Saturday and left another 16 trapped underground , the government said.\\nThe death\\nrose to 26 Sunday morning as rescuers were battling to reach the 11 miners who were still trapped underground, rescue headquarters said.\\nRescuers were battling to reach the 11 miners still trapped underground, but chances for them to survive were very slim, said Du Bo, deputy chief of the rescue headquarters.\\n\"Based upon past experience, the remaining 11 miners could be buried in coal dust, so the survival chances are frail,\" Du said.\\nMore than 2,500 tons of coal dust smothered  the pit after the gas leak , which hampered  the rescue, said Du.\\nThe gas outburst happened at 6:03 a.m. Saturday when 276 miners were working underground in the mine in Yuzhou City. A total of 239 workers escaped but 21 were found dead and 16 trapped.\\nAn initial  investigation showed that 173,500 cubic meters of gas leaked out in the accident. Liu Wenbin, a deputy chief engineer of the company that owns the mine, was in the pit  when the accident happened. He organized the escape.\\n\"At around 6 a.m., I felt there was something wrong with the airflow in the shaft, and one of the team captains told me he also felt it and had already reported the problem,\" said Liu\\nThe mine is owned by Pingyu Coal & Electric Co. Ltd., a company jointly established by four investors, including Zhong Ping Energy Chemical Group and China Power Investment Corp.   \n",
       "7      Understanding the process of making career choices and managing your career is a basic life skill that everyone should understand.\\nYour career decisions have such a profound effect on all aspects of your life. It's important to have the knowledge and resources needed to make smart, informed decisions. Whether you are looking for a new job, aiming to take the next step at your current job or planning your retirement options, you are making career decisions. Using good resources and the guidance of a career counselor can help you to make those decisions well.\\nMany people mistakenly believe that choosing a career is a one-time event that happens some time in early adulthood. However, career management is actually a life-long process, and we continue to make consequential   career choices over the years. When people want to take action in their career, career management and job search are about so much more than writing a good resume. If you learn about and act on the following areas of career management, you'll be rewarded throughout your career.\\nYour interests, abilities, values, personal needs and realities should all be taken into account in any career decision making process. You spend countless hours at work, and it impacts your life in so many ways; it makes sense that you should be fully informed before making such profound decisions.\\nDo you know how many different career choices are available to you? Both The Dictionary of Occupational Titles (American) and The National Occupational Classification (Canadian) list well over 20,000 different job titles. So unless you've actively explored a variety of career options, there's a very good chance that there are great possibilities available to you, and you don't even realize they exist.\\nMatch your understanding of yourself with your understanding of possible career options. Once you have developed a good understanding of yourself, you will be able to combine that self-knowledge with your career and labor market research to determine potential careers that are a great fit for you.\\nWhen you've made a well informed decision, then you're ready to make it happen. Making use of good career guidance and resources will help you to acquire the education, skills, and experience needed to get the job and learn and implement   effective job search strategies.\\nTime spent understanding your needs, researching your career options and developing outstanding job search skills, guided by great career resources, is a powerful investment in your future.   \n",
       "10     Understanding the process of making career choices and managing your career is a basic life skill that everyone should understand.\\nYour career decisions have such a profound effect on all aspects of your life. It's important to have the knowledge and resources needed to make smart, informed decisions. Whether you are looking for a new job, aiming to take the next step at your current job or planning your retirement options, you are making career decisions. Using good resources and the guidance of a career counselor can help you to make those decisions well.\\nMany people mistakenly believe that choosing a career is a one-time event that happens some time in early adulthood. However, career management is actually a life-long process, and we continue to make consequential   career choices over the years. When people want to take action in their career, career management and job search are about so much more than writing a good resume. If you learn about and act on the following areas of career management, you'll be rewarded throughout your career.\\nYour interests, abilities, values, personal needs and realities should all be taken into account in any career decision making process. You spend countless hours at work, and it impacts your life in so many ways; it makes sense that you should be fully informed before making such profound decisions.\\nDo you know how many different career choices are available to you? Both The Dictionary of Occupational Titles (American) and The National Occupational Classification (Canadian) list well over 20,000 different job titles. So unless you've actively explored a variety of career options, there's a very good chance that there are great possibilities available to you, and you don't even realize they exist.\\nMatch your understanding of yourself with your understanding of possible career options. Once you have developed a good understanding of yourself, you will be able to combine that self-knowledge with your career and labor market research to determine potential careers that are a great fit for you.\\nWhen you've made a well informed decision, then you're ready to make it happen. Making use of good career guidance and resources will help you to acquire the education, skills, and experience needed to get the job and learn and implement   effective job search strategies.\\nTime spent understanding your needs, researching your career options and developing outstanding job search skills, guided by great career resources, is a powerful investment in your future.   \n",
       "...                                                                                                                                                                                                                                                                                                                                                                                                                                                                                                                                                                                                                                                                                                                                                                                                                                                                                                                                                                                                                                                                                                                                                                                                                                                                                                                                                                                                                                                                                                                                                                                                                                                                                                                                                                                                                                                                                                                                                                                                                                                                                                                                                                                                                                                                                                                                                                                                                                                                                                                                                                                                                                       ...   \n",
       "87843                                                                                                                                                                                                                                                                                                                                                                                                                                                                                                                                                                                                                                                                                                                                                                                                                                                                                                                                                                                                                                                                                                                                                                                                                                                                                                                                                                                                                                                                                                                                                                        When travelling.you are sure to try some exciting new kinds of food.The Wild Food Festival,in the town of Hokitika,the west of Coast of New Zealand,gives you the chance to try some strange food.It is a celebration of the areas special lifestyle and food.And it celebrates food that most people might not want to eat.It is held in March every year.\\nAt the festival you will find huhu grubs and beetles on your plate.The festival also celebrates Maori food. the food of the traditional native people of New Nealand And visitors will eat the wild food with plenty of famous West Coast beer.What's more,there are three stages at the festival,where there is live music and entertainment an day long.\\nIf you have the chance to travel to Hokitita during the Wild Food Festival,you should book a hotel before it begins.or you can choose to stay at local schools.A number of local schools become camping grounds over the weekend of the festival.You can also stay in Greymouth,because there are buses from Greymouth to the festival.   \n",
       "87844                                                                                                                                                                                                                                                                                                                                                                                                                                                                                                                                                                                                                                                                                                                                                                                                                                                                                                                                                                                                                                                                                                                                                                                                                                                                                                                                                                                                                                                                                                                                                                        When travelling.you are sure to try some exciting new kinds of food.The Wild Food Festival,in the town of Hokitika,the west of Coast of New Zealand,gives you the chance to try some strange food.It is a celebration of the areas special lifestyle and food.And it celebrates food that most people might not want to eat.It is held in March every year.\\nAt the festival you will find huhu grubs and beetles on your plate.The festival also celebrates Maori food. the food of the traditional native people of New Nealand And visitors will eat the wild food with plenty of famous West Coast beer.What's more,there are three stages at the festival,where there is live music and entertainment an day long.\\nIf you have the chance to travel to Hokitita during the Wild Food Festival,you should book a hotel before it begins.or you can choose to stay at local schools.A number of local schools become camping grounds over the weekend of the festival.You can also stay in Greymouth,because there are buses from Greymouth to the festival.   \n",
       "87845                                                                                                                                                                                                                                                                                                                                                                                                                                                                                                                                                                                                                                                                                                                                                                                                                                                                                                                                                                                                                                                                                                                                                                                                                                                                                                                                                                                                                                                                                                                                                                        When travelling.you are sure to try some exciting new kinds of food.The Wild Food Festival,in the town of Hokitika,the west of Coast of New Zealand,gives you the chance to try some strange food.It is a celebration of the areas special lifestyle and food.And it celebrates food that most people might not want to eat.It is held in March every year.\\nAt the festival you will find huhu grubs and beetles on your plate.The festival also celebrates Maori food. the food of the traditional native people of New Nealand And visitors will eat the wild food with plenty of famous West Coast beer.What's more,there are three stages at the festival,where there is live music and entertainment an day long.\\nIf you have the chance to travel to Hokitita during the Wild Food Festival,you should book a hotel before it begins.or you can choose to stay at local schools.A number of local schools become camping grounds over the weekend of the festival.You can also stay in Greymouth,because there are buses from Greymouth to the festival.   \n",
       "87850                                                                                                                                                                                                                                                                                                                                                                                                                                                                                                                                                                                                                                                                                                                                                                                                                                                                                                                                                                                                                                                                                                                                                                                                                                     In the days following the first anniversary  of my dad 's death, I felt sad. I still missed him so much. I would walk over to his old house where my daughter now live and still expect to see him sitting out on his front porch . I would see him in my dreams, looking young and strong again.\\nI felt bad too because I regretted not spending more time with him while he was here. I wished I had visited him more, talked with him more, and listened to him more. I wished I had asked the questions that I never did. I wished I had given him more hugs and told him I loved him more often. I wished I had cherished the time I had with him here. I was angry at the destiny  because Dad and Mum had both passed away before I was 50, and I was angry with myself because I hadn't made the most of time I had with them.\\nToday, I found myself walking under a cloudy sky, staring at the leafless trees. As I walked along, one of the last golden maple leaves fell from its tree and sailed in the wind until it landed in front of me. I picked it up and smiled. At the moment of peace I felt a sound in my heart and mind: \"death is momentary , but love is eternal .\" I knew at that moment that my relationships with Mum and Dad were not over. We would see each other again in a place of love, joy and light. We would spend our days in learning, laughter and love.   \n",
       "87865                                                                                                                                                                                                                                                                                                                                                                                                                                                                                                                                                                                                                                                                                                                                                                                                                                                                                                                                                                                                                                                                                                                                                                                                                                                                                                                                                                                                                                                                                                                                                                                                                                                                                                Last year when Tom graduated from school, he came to Taibei. He didn't like to work on his father's farm and hoped to find a job in a big city. He went from one company to another but no one wanted him. With little money left, he got to the station, sad and tired. All he wanted to do was go back to his small town. It was very late at night and the station was full of people. They were waiting to buy tickets of the last train. He bought the last ticket, and he was very happy.\\nAt that time, a woman with a crying baby walked to him and asked him to sell her the ticket. He gave her the ticket because he thought they needed it more than he did. After the train left, he sat on the bench and didn't know where to go. Suddenly, an old man came and said, \"Young man, I have seen what you did to the woman. I am the owner of a big company. I need a good young man like you. Would you like to work for me?   \n",
       "\n",
       "       answer  \\\n",
       "3           1   \n",
       "4           1   \n",
       "6           2   \n",
       "7           1   \n",
       "10          2   \n",
       "...       ...   \n",
       "87843       0   \n",
       "87844       3   \n",
       "87845       3   \n",
       "87850       1   \n",
       "87865       2   \n",
       "\n",
       "                                                                      question  \\\n",
       "3                                    Which' s the best title for the passage?.   \n",
       "4                               What could be the best title for this passage?   \n",
       "6                 According to the writer, which of the following is not true?   \n",
       "7                                         What's the main idea of the passage?   \n",
       "10     Which of the following statements is NOT TRUE according to the passage?   \n",
       "...                                                                        ...   \n",
       "87843                        What will you find on your plate at the festival?   \n",
       "87844                             Which activity can't you do at the festival?   \n",
       "87845                          Which place can't you stay during the festival?   \n",
       "87850                                   What is the main idea of this passage?   \n",
       "87865                                       What can we learn from this story?   \n",
       "\n",
       "                                                                                                                                                                                                                                                                                                                                                                         options  \n",
       "3                                                                                                                                                                        [Young Graduates Have Higher Expectations, Young Graduates Look to Surgery for Better Jobs, Young Graduates' Opinion About Cosmetic Surgery, Young Graduates Face a Different Situation in Job-hunting]  \n",
       "4                                                                                                                                                                                                                                  [Death Toll Rises in an Accident in China, A Coal Mine Accident in Central China, An Accident in Central China, Coal Mine Accidents in China]  \n",
       "6                                                                                                             [The mine was owned by more than one company, There was at least one more similar accident happening in Central China before, Before the accident happened there was no sign of something wrong, When the accident happened one of the mine owners was in the pit]  \n",
       "7      [In the process of making career decisions, people should consider interests, abilities, values, personal needs and realities., All the people should have a good knowledge of how to make career choices and manage their career., Career decisions have a great impact on people's life., There are various possibilities available to you of making career decisions.]  \n",
       "10                                                              [Your interests in the occupation you choose are vital., Good career guidance and resources can help you gain the skills and experience., You are to make significant decisions without good resources and the guidance of a career adviser., Planning your retirement options is related to career management.]  \n",
       "...                                                                                                                                                                                                                                                                                                                                                                          ...  \n",
       "87843                                                                                                                                                                                                                                                                                              [Huhu grubs and beetles., West Coast beer., Fish and chicken, Pork and eggs.]  \n",
       "87844                                                                                                                                                                                                                               [You can eat Maori food., You can enjoy live music and entertainment., You can drink West Coast beer., You can make Maori food by yourself.]  \n",
       "87845                                                                                                                                                                                                                                                                                                                 [A hotel, Local schools, In Greymouth, An exciting place.]  \n",
       "87850                                                                                                                                  [The writer's parents had both died before he was50., Life is limited but love is forever., The writer regretted that he had no more time to stay with his parents., The writer felt sad because he couldn't stay with his dad any more.]  \n",
       "87865                                                                                                                                                                  [Many people find job in a train station., Don't buy the last ticket of the train., If we try our best to help others, others will help us., We should not give our ticket to others in a train station.]  \n",
       "\n",
       "[31941 rows x 5 columns]"
      ]
     },
     "execution_count": 96,
     "metadata": {},
     "output_type": "execute_result"
    }
   ],
   "source": [
    "#valid_df = filt_df(preprocess_dataset(race['validation']))\n",
    "train_df = filt_df(preprocess_dataset(race['train']))\n",
    "train_df"
   ]
  },
  {
   "cell_type": "code",
   "execution_count": 83,
   "metadata": {},
   "outputs": [
    {
     "data": {
      "text/plain": [
       "7      3892\n",
       "6      3802\n",
       "8      3675\n",
       "1      3521\n",
       "5      3518\n",
       "3      3417\n",
       "9      3018\n",
       "4      2983\n",
       "2      2724\n",
       "10     2440\n",
       "11     1752\n",
       "12     1215\n",
       "13      857\n",
       "14      513\n",
       "15      333\n",
       "16      205\n",
       "17      111\n",
       "18       72\n",
       "19       49\n",
       "20       37\n",
       "22       13\n",
       "21       11\n",
       "23       11\n",
       "24        7\n",
       "26        3\n",
       "25        3\n",
       "105       1\n",
       "34        1\n",
       "29        1\n",
       "27        1\n",
       "Name: almost, dtype: int64"
      ]
     },
     "execution_count": 83,
     "metadata": {},
     "output_type": "execute_result"
    }
   ],
   "source": [
    "train_df.almost.value_counts()"
   ]
  },
  {
   "cell_type": "code",
   "execution_count": 16,
   "metadata": {},
   "outputs": [
    {
     "name": "stderr",
     "output_type": "stream",
     "text": [
      "Reusing dataset race (/Users/Hasan/.cache/huggingface/datasets/race/all/0.1.0/5839ff74a429622f5f20cca69c5fcf0e87ac6d5fd2777c42b948000684829f7b)\n"
     ]
    },
    {
     "data": {
      "application/vnd.jupyter.widget-view+json": {
       "model_id": "e92a95aa14a14dcbac78d19728420ee8",
       "version_major": 2,
       "version_minor": 0
      },
      "text/plain": [
       "HBox(children=(FloatProgress(value=0.0, max=3.0), HTML(value='')))"
      ]
     },
     "metadata": {},
     "output_type": "display_data"
    },
    {
     "name": "stdout",
     "output_type": "stream",
     "text": [
      "\n",
      "(87866, 5)\n",
      "(217, 5)\n"
     ]
    }
   ],
   "source": [
    "race = load_dataset('race', 'all')\n",
    "race_train = race['train'].to_pandas()\n",
    "print(race_train.shape)\n",
    "vc = race_train['example_id'].value_counts().to_frame()\n",
    "vc.columns = ['Count']\n",
    "vc = vc[vc.Count > 5]\n",
    "race_train = race_train[race_train['example_id'].isin(vc.index)]\n",
    "print(race_train.shape)"
   ]
  },
  {
   "cell_type": "code",
   "execution_count": 15,
   "metadata": {},
   "outputs": [
    {
     "data": {
      "text/html": [
       "<div>\n",
       "<style scoped>\n",
       "    .dataframe tbody tr th:only-of-type {\n",
       "        vertical-align: middle;\n",
       "    }\n",
       "\n",
       "    .dataframe tbody tr th {\n",
       "        vertical-align: top;\n",
       "    }\n",
       "\n",
       "    .dataframe thead th {\n",
       "        text-align: right;\n",
       "    }\n",
       "</style>\n",
       "<table border=\"1\" class=\"dataframe\">\n",
       "  <thead>\n",
       "    <tr style=\"text-align: right;\">\n",
       "      <th></th>\n",
       "      <th>Count</th>\n",
       "    </tr>\n",
       "  </thead>\n",
       "  <tbody>\n",
       "    <tr>\n",
       "      <th>middle7941.txt</th>\n",
       "      <td>7</td>\n",
       "    </tr>\n",
       "    <tr>\n",
       "      <th>high4205.txt</th>\n",
       "      <td>6</td>\n",
       "    </tr>\n",
       "    <tr>\n",
       "      <th>high19876.txt</th>\n",
       "      <td>6</td>\n",
       "    </tr>\n",
       "    <tr>\n",
       "      <th>high11655.txt</th>\n",
       "      <td>6</td>\n",
       "    </tr>\n",
       "    <tr>\n",
       "      <th>high6122.txt</th>\n",
       "      <td>6</td>\n",
       "    </tr>\n",
       "    <tr>\n",
       "      <th>...</th>\n",
       "      <td>...</td>\n",
       "    </tr>\n",
       "    <tr>\n",
       "      <th>high17887.txt</th>\n",
       "      <td>1</td>\n",
       "    </tr>\n",
       "    <tr>\n",
       "      <th>high38.txt</th>\n",
       "      <td>1</td>\n",
       "    </tr>\n",
       "    <tr>\n",
       "      <th>high24041.txt</th>\n",
       "      <td>1</td>\n",
       "    </tr>\n",
       "    <tr>\n",
       "      <th>high12657.txt</th>\n",
       "      <td>1</td>\n",
       "    </tr>\n",
       "    <tr>\n",
       "      <th>high19938.txt</th>\n",
       "      <td>1</td>\n",
       "    </tr>\n",
       "  </tbody>\n",
       "</table>\n",
       "<p>25135 rows × 1 columns</p>\n",
       "</div>"
      ],
      "text/plain": [
       "                Count\n",
       "middle7941.txt      7\n",
       "high4205.txt        6\n",
       "high19876.txt       6\n",
       "high11655.txt       6\n",
       "high6122.txt        6\n",
       "...               ...\n",
       "high17887.txt       1\n",
       "high38.txt          1\n",
       "high24041.txt       1\n",
       "high12657.txt       1\n",
       "high19938.txt       1\n",
       "\n",
       "[25135 rows x 1 columns]"
      ]
     },
     "execution_count": 15,
     "metadata": {},
     "output_type": "execute_result"
    }
   ],
   "source": [
    "vc"
   ]
  },
  {
   "cell_type": "code",
   "execution_count": null,
   "metadata": {},
   "outputs": [],
   "source": []
  }
 ],
 "metadata": {
  "interpreter": {
   "hash": "aee8b7b246df8f9039afb4144a1f6fd8d2ca17a180786b69acc140d282b71a49"
  },
  "kernelspec": {
   "display_name": "Python 3",
   "language": "python",
   "name": "python3"
  },
  "language_info": {
   "codemirror_mode": {
    "name": "ipython",
    "version": 3
   },
   "file_extension": ".py",
   "mimetype": "text/x-python",
   "name": "python",
   "nbconvert_exporter": "python",
   "pygments_lexer": "ipython3",
   "version": "3.8.3"
  }
 },
 "nbformat": 4,
 "nbformat_minor": 2
}
